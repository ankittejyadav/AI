{
  "nbformat": 4,
  "nbformat_minor": 0,
  "metadata": {
    "colab": {
      "provenance": [],
      "authorship_tag": "ABX9TyOZcbAxrUz71Bru2ZWxutjD",
      "include_colab_link": true
    },
    "kernelspec": {
      "name": "python3",
      "display_name": "Python 3"
    },
    "language_info": {
      "name": "python"
    }
  },
  "cells": [
    {
      "cell_type": "markdown",
      "metadata": {
        "id": "view-in-github",
        "colab_type": "text"
      },
      "source": [
        "<a href=\"https://colab.research.google.com/github/ankittejyadav/AI/blob/main/Langchain.ipynb\" target=\"_parent\"><img src=\"https://colab.research.google.com/assets/colab-badge.svg\" alt=\"Open In Colab\"/></a>"
      ]
    },
    {
      "cell_type": "code",
      "execution_count": null,
      "metadata": {
        "id": "gjGe1wGyQEL6"
      },
      "outputs": [],
      "source": [
        "api_key_file_path = 'openapi_key.txt'\n",
        "# Define the path to your API key file using a raw string\n",
        "# api_key_file_path = r'C:\\path\\to\\your\\api_key.txt'\n",
        "\n",
        "# Read the API key from the file\n",
        "with open(api_key_file_path, 'r') as file:\n",
        "    api_key = file.read().strip()\n",
        "\n",
        "# Print the API key to confirm it's read correctly (Optional)\n",
        "# print(api_key)\n"
      ]
    },
    {
      "cell_type": "code",
      "source": [],
      "metadata": {
        "id": "Kf60pSuvSXcL"
      },
      "execution_count": null,
      "outputs": []
    }
  ]
}