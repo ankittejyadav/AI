{
  "nbformat": 4,
  "nbformat_minor": 0,
  "metadata": {
    "colab": {
      "provenance": [],
      "authorship_tag": "ABX9TyMPYhuRAqP9n8oyYHZBaXpL",
      "include_colab_link": true
    },
    "kernelspec": {
      "name": "python3",
      "display_name": "Python 3"
    },
    "language_info": {
      "name": "python"
    },
    "accelerator": "TPU"
  },
  "cells": [
    {
      "cell_type": "markdown",
      "metadata": {
        "id": "view-in-github",
        "colab_type": "text"
      },
      "source": [
        "<a href=\"https://colab.research.google.com/github/ankittejyadav/AI/blob/main/Langchain.ipynb\" target=\"_parent\"><img src=\"https://colab.research.google.com/assets/colab-badge.svg\" alt=\"Open In Colab\"/></a>"
      ]
    },
    {
      "cell_type": "code",
      "source": [
        "%%capture\n",
        "!pip install langchain"
      ],
      "metadata": {
        "id": "Kf60pSuvSXcL"
      },
      "execution_count": 4,
      "outputs": []
    },
    {
      "cell_type": "code",
      "source": [
        "%%capture\n",
        "!pip install langchain_community"
      ],
      "metadata": {
        "id": "I3Tjp36x8dty"
      },
      "execution_count": 5,
      "outputs": []
    },
    {
      "cell_type": "code",
      "source": [
        "%%capture\n",
        "!pip install python-magic"
      ],
      "metadata": {
        "id": "b8RLLeOlAMwa"
      },
      "execution_count": 20,
      "outputs": []
    },
    {
      "cell_type": "code",
      "source": [
        "%%capture\n",
        "!apt-get update\n",
        "!apt-get install -y libmagic1 libmagic-dev"
      ],
      "metadata": {
        "id": "9i2n2u4MAhJ1"
      },
      "execution_count": 22,
      "outputs": []
    },
    {
      "cell_type": "code",
      "source": [
        "%%capture\n",
        "!pip install unstructured libmagic python-magic"
      ],
      "metadata": {
        "id": "YtCziRTSAjrC"
      },
      "execution_count": 23,
      "outputs": []
    },
    {
      "cell_type": "code",
      "source": [
        "from langchain.document_loaders import TextLoader\n",
        "loader=TextLoader('abc.txt')\n",
        "data=loader.load()\n",
        "data[0].metadata"
      ],
      "metadata": {
        "colab": {
          "base_uri": "https://localhost:8080/"
        },
        "id": "6ARHc0qG8E6m",
        "outputId": "49ab9e61-3379-4d66-a276-4a2238f610f2"
      },
      "execution_count": 24,
      "outputs": [
        {
          "output_type": "execute_result",
          "data": {
            "text/plain": [
              "{'source': 'abc.txt'}"
            ]
          },
          "metadata": {},
          "execution_count": 24
        }
      ]
    },
    {
      "cell_type": "code",
      "source": [
        "from langchain.document_loaders import UnstructuredURLLoader\n",
        "loader = UnstructuredURLLoader(urls=['https://www.wired.com/story/openai-superalignment-team-disbanded/',\n",
        "                                     'https://www.vox.com/future-perfect/2024/5/17/24158403/openai-resignations-ai-safety-ilya-sutskever-jan-leike-artificial-intelligence'])"
      ],
      "metadata": {
        "id": "HyvB-RFg9AdV"
      },
      "execution_count": 47,
      "outputs": []
    },
    {
      "cell_type": "code",
      "source": [
        "data=loader.load()\n",
        "len(data)"
      ],
      "metadata": {
        "colab": {
          "base_uri": "https://localhost:8080/"
        },
        "id": "_9I6DMjaBF_d",
        "outputId": "ecdad30d-5892-48fd-ea3c-5f88ec674dec"
      },
      "execution_count": 48,
      "outputs": [
        {
          "output_type": "execute_result",
          "data": {
            "text/plain": [
              "2"
            ]
          },
          "metadata": {},
          "execution_count": 48
        }
      ]
    },
    {
      "cell_type": "code",
      "source": [
        "data[1].metadata"
      ],
      "metadata": {
        "colab": {
          "base_uri": "https://localhost:8080/"
        },
        "id": "436qXcrsCQ0M",
        "outputId": "79e2f7d4-7f29-4917-dcc1-9d7971dba03d"
      },
      "execution_count": 51,
      "outputs": [
        {
          "output_type": "execute_result",
          "data": {
            "text/plain": [
              "{'source': 'https://www.vox.com/future-perfect/2024/5/17/24158403/openai-resignations-ai-safety-ilya-sutskever-jan-leike-artificial-intelligence'}"
            ]
          },
          "metadata": {},
          "execution_count": 51
        }
      ]
    },
    {
      "cell_type": "markdown",
      "source": [
        "Text-Splitting"
      ],
      "metadata": {
        "id": "mWutGzqFGg-s"
      }
    },
    {
      "cell_type": "code",
      "source": [
        "text='''Centralize and manage disparate data on a single platform with EDM\n",
        "\n",
        "EDM is a data management platform for acquiring, validating and distributing trade, operational, risk, financial and customer data. It creates a single version of the truth in a consistent, transparent and fully audited environment. Firms benefit from greater control, ongoing compliance and transparency of their data.\n",
        "\n",
        "Key Benefits\n",
        "Data governance – Create a single version of the truth, data stewardship of data assets and a transparent audit trail\n",
        "Data quality – Use data that is validated, enriched and reconciled across multiple sources, reducing operational risk\n",
        "Greater transparency – Benefit from data lineage that provides look-through hierarchy and side-by-side source comparisons\n",
        "Seamless integration – Eliminate internal and external data silos and consolidate legacy applications and systems\n",
        "Data dissemination – Aggregate and present data in the right format at the right time as needed by each business\n",
        "Flexible deployment – Implement EDM as an installed or managed service solution'''"
      ],
      "metadata": {
        "id": "I2Qg25yxEYgf"
      },
      "execution_count": 52,
      "outputs": []
    },
    {
      "cell_type": "code",
      "source": [
        "text"
      ],
      "metadata": {
        "colab": {
          "base_uri": "https://localhost:8080/",
          "height": 192
        },
        "id": "VGipmdgeH1KC",
        "outputId": "c62756ca-06b9-420c-d120-1e6e50d29b7e"
      },
      "execution_count": 53,
      "outputs": [
        {
          "output_type": "execute_result",
          "data": {
            "text/plain": [
              "'Centralize and manage disparate data on a single platform with EDM\\n\\nEDM is a data management platform for acquiring, validating and distributing trade, operational, risk, financial and customer data. It creates a single version of the truth in a consistent, transparent and fully audited environment. Firms benefit from greater control, ongoing compliance and transparency of their data.\\n\\nKey Benefits\\nData governance – Create a single version of the truth, data stewardship of data assets and a transparent audit trail\\nData quality – Use data that is validated, enriched and reconciled across multiple sources, reducing operational risk\\nGreater transparency – Benefit from data lineage that provides look-through hierarchy and side-by-side source comparisons\\nSeamless integration – Eliminate internal and external data silos and consolidate legacy applications and systems\\nData dissemination – Aggregate and present data in the right format at the right time as needed by each business\\nFlexible deployment – Implement EDM as an installed or managed service solution'"
            ],
            "application/vnd.google.colaboratory.intrinsic+json": {
              "type": "string"
            }
          },
          "metadata": {},
          "execution_count": 53
        }
      ]
    },
    {
      "cell_type": "code",
      "source": [
        "text[:200]"
      ],
      "metadata": {
        "colab": {
          "base_uri": "https://localhost:8080/",
          "height": 53
        },
        "id": "ZRtsyqYPH2Dj",
        "outputId": "f514d6fb-6213-4d46-fcf8-61c70ab88d48"
      },
      "execution_count": 54,
      "outputs": [
        {
          "output_type": "execute_result",
          "data": {
            "text/plain": [
              "'Centralize and manage disparate data on a single platform with EDM\\n\\nEDM is a data management platform for acquiring, validating and distributing trade, operational, risk, financial and customer data. '"
            ],
            "application/vnd.google.colaboratory.intrinsic+json": {
              "type": "string"
            }
          },
          "metadata": {},
          "execution_count": 54
        }
      ]
    },
    {
      "cell_type": "code",
      "source": [
        "from langchain.text_splitter import CharacterTextSplitter\n",
        "splitter=CharacterTextSplitter(\n",
        "    separator=' ',\n",
        "    chunk_size=200,\n",
        "    chunk_overlap=0\n",
        ")\n",
        "chunks = splitter.split_text(text)\n",
        "len(chunks)"
      ],
      "metadata": {
        "colab": {
          "base_uri": "https://localhost:8080/"
        },
        "id": "9eixIQPQH8rr",
        "outputId": "d67bd5bd-b7ec-4b2a-9352-39cd30192b43"
      },
      "execution_count": 62,
      "outputs": [
        {
          "output_type": "execute_result",
          "data": {
            "text/plain": [
              "6"
            ]
          },
          "metadata": {},
          "execution_count": 62
        }
      ]
    },
    {
      "cell_type": "code",
      "source": [
        "chunks"
      ],
      "metadata": {
        "colab": {
          "base_uri": "https://localhost:8080/"
        },
        "id": "_ObjN0aNIn1n",
        "outputId": "07df332b-a0a9-48a5-c063-62267c91fb61"
      },
      "execution_count": 63,
      "outputs": [
        {
          "output_type": "execute_result",
          "data": {
            "text/plain": [
              "['Centralize and manage disparate data on a single platform with EDM\\n\\nEDM is a data management platform for acquiring, validating and distributing trade, operational, risk, financial and customer data.',\n",
              " 'It creates a single version of the truth in a consistent, transparent and fully audited environment. Firms benefit from greater control, ongoing compliance and transparency of their data.\\n\\nKey',\n",
              " 'Benefits\\nData governance – Create a single version of the truth, data stewardship of data assets and a transparent audit trail\\nData quality – Use data that is validated, enriched and reconciled across',\n",
              " 'multiple sources, reducing operational risk\\nGreater transparency – Benefit from data lineage that provides look-through hierarchy and side-by-side source comparisons\\nSeamless integration – Eliminate',\n",
              " 'internal and external data silos and consolidate legacy applications and systems\\nData dissemination – Aggregate and present data in the right format at the right time as needed by each',\n",
              " 'business\\nFlexible deployment – Implement EDM as an installed or managed service solution']"
            ]
          },
          "metadata": {},
          "execution_count": 63
        }
      ]
    },
    {
      "cell_type": "code",
      "source": [
        "for chunk in chunks:\n",
        "    print(len(chunk))"
      ],
      "metadata": {
        "colab": {
          "base_uri": "https://localhost:8080/"
        },
        "id": "TVYMPbmiIzNt",
        "outputId": "489405f3-5494-499b-b8b6-3e378e089b65"
      },
      "execution_count": 64,
      "outputs": [
        {
          "output_type": "stream",
          "name": "stdout",
          "text": [
            "199\n",
            "192\n",
            "200\n",
            "198\n",
            "184\n",
            "88\n"
          ]
        }
      ]
    },
    {
      "cell_type": "code",
      "source": [
        "from langchain.text_splitter import RecursiveCharacterTextSplitter\n",
        "\n",
        "r_splitter=RecursiveCharacterTextSplitter(\n",
        "    separators=['\\n\\n','\\n',' '],\n",
        "    chunk_size=200,\n",
        "    chunk_overlap=0\n",
        ")\n",
        "chunks=r_splitter.split_text(text)\n",
        "len(chunks)"
      ],
      "metadata": {
        "colab": {
          "base_uri": "https://localhost:8080/"
        },
        "id": "4nfbgEIMI5Oc",
        "outputId": "69e7ac3f-b441-44ff-97b0-40e06037e0c9"
      },
      "execution_count": 67,
      "outputs": [
        {
          "output_type": "execute_result",
          "data": {
            "text/plain": [
              "8"
            ]
          },
          "metadata": {},
          "execution_count": 67
        }
      ]
    },
    {
      "cell_type": "code",
      "source": [
        "for chunk in chunks:\n",
        "    print(len(chunk))"
      ],
      "metadata": {
        "colab": {
          "base_uri": "https://localhost:8080/"
        },
        "id": "XR8vSMfjKDJx",
        "outputId": "83d63207-f200-479c-8462-99811bcc65b7"
      },
      "execution_count": 68,
      "outputs": [
        {
          "output_type": "stream",
          "name": "stdout",
          "text": [
            "66\n",
            "189\n",
            "129\n",
            "130\n",
            "117\n",
            "121\n",
            "113\n",
            "192\n"
          ]
        }
      ]
    },
    {
      "cell_type": "markdown",
      "source": [
        "FAISS"
      ],
      "metadata": {
        "id": "H_KzHWfoNhOT"
      }
    },
    {
      "cell_type": "code",
      "source": [
        "%%capture\n",
        "!pip install faiss-cpu"
      ],
      "metadata": {
        "id": "sB3fJ-j-KHu8"
      },
      "execution_count": 69,
      "outputs": []
    },
    {
      "cell_type": "code",
      "source": [
        "%%capture\n",
        "!pip install sentence-transformers"
      ],
      "metadata": {
        "id": "D0q-z92FNnac"
      },
      "execution_count": 70,
      "outputs": []
    },
    {
      "cell_type": "code",
      "source": [],
      "metadata": {
        "id": "zxq9Kn5TYCqg"
      },
      "execution_count": null,
      "outputs": []
    }
  ]
}