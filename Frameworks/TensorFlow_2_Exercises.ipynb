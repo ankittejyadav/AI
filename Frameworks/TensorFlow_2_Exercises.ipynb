{
  "cells": [
    {
      "cell_type": "markdown",
      "metadata": {
        "id": "view-in-github",
        "colab_type": "text"
      },
      "source": [
        "<a href=\"https://colab.research.google.com/github/ankittejyadav/AI/blob/main/Frameworks/TensorFlow_2_Exercises.ipynb\" target=\"_parent\"><img src=\"https://colab.research.google.com/assets/colab-badge.svg\" alt=\"Open In Colab\"/></a>"
      ]
    },
    {
      "cell_type": "markdown",
      "id": "8601d189",
      "metadata": {
        "id": "8601d189"
      },
      "source": [
        "\n",
        "# TensorFlow 2 Exercises for Basic Tensor Manipulation\n",
        "\n",
        "This notebook provides a set of exercises designed to familiarize you with the basics of tensor manipulation in TensorFlow 2,\n",
        "which is essential for handling Large Language Models (LLMs).\n",
        "\n",
        "## Contents\n",
        "1. Tensor Basics\n",
        "2. Tensor Operations\n",
        "3. Manipulating Tensor Shapes\n",
        "4. Indexing and Slicing\n",
        "5. Broadcasting\n",
        "6. Gradients and Differentiation\n",
        "7. Simple Neural Network Components\n",
        "8. Data Loading and Preprocessing\n",
        "\n",
        "Each section will include a brief explanation followed by practical exercises.\n"
      ]
    },
    {
      "cell_type": "markdown",
      "id": "216324e4",
      "metadata": {
        "id": "216324e4"
      },
      "source": [
        "\n",
        "## 1. Tensor Basics\n",
        "\n",
        "**Objective**: Understand how to create tensors, and learn about their types and shapes.\n",
        "\n",
        "**Exercises**:\n",
        "1. Create a scalar tensor (0-D tensor) with a specific value.\n",
        "2. Create a 1-D tensor (vector) with 5 elements.\n",
        "3. Create a 2-D tensor (matrix) of shape (3, 3).\n",
        "4. Find the data type (`dtype`) of the tensors created above.\n",
        "5. Convert a numpy array to a TensorFlow tensor.\n"
      ]
    },
    {
      "cell_type": "code",
      "source": [
        "import tensorflow as tf\n",
        "import numpy as np\n",
        "# 0-D tensor with specific value\n",
        "scalar_tensor=tf.constant(42)\n",
        "# 1-D tensor with 5 elements\n",
        "vector_tensor=tf.constant([1,2,3,4,5])\n",
        "# 2-D tensor with shape (3,3)\n",
        "matrix_tensor=tf.constant([[1,2,3],[4,5,6],[7,8,9]])\n",
        "# find dtype\n",
        "print(\"Data type of scalar: \",scalar_tensor.dtype)\n",
        "print(\"Data type of vector: \",vector_tensor.dtype)\n",
        "print(\"Data type of matrix: \",matrix_tensor.dtype)\n",
        "# convert numpy arr to tensor\n",
        "arr=np.array([[1,2,3],[4,5,6]])\n",
        "tensor_np=tf.convert_to_tensor(arr)\n",
        "print(\"converted tensor: \",tensor_np)"
      ],
      "metadata": {
        "id": "vAEqTX8R6Ut5",
        "outputId": "f80ed98a-51f4-4d7f-87d6-d88964599d39",
        "colab": {
          "base_uri": "https://localhost:8080/"
        }
      },
      "id": "vAEqTX8R6Ut5",
      "execution_count": 7,
      "outputs": [
        {
          "output_type": "stream",
          "name": "stdout",
          "text": [
            "Data type of scalar:  <dtype: 'int32'>\n",
            "Data type of vector:  <dtype: 'int32'>\n",
            "Data type of matrix:  <dtype: 'int32'>\n",
            "converted tensor:  tf.Tensor(\n",
            "[[1 2 3]\n",
            " [4 5 6]], shape=(2, 3), dtype=int64)\n"
          ]
        }
      ]
    },
    {
      "cell_type": "markdown",
      "id": "02281206",
      "metadata": {
        "id": "02281206"
      },
      "source": [
        "\n",
        "## 2. Tensor Operations\n",
        "\n",
        "**Objective**: Perform basic arithmetic operations and learn some advanced operations.\n",
        "\n",
        "**Exercises**:\n",
        "1. Add, subtract, multiply, and divide two tensors.\n",
        "2. Compute the mean and standard deviation of a tensor.\n",
        "3. Apply a non-linear activation function (like ReLU) to a tensor.\n",
        "4. Perform matrix multiplication between two 2-D tensors.\n"
      ]
    },
    {
      "cell_type": "code",
      "source": [
        "import tensorflow as tf\n",
        "tensor1=tf.constant([[1,2],[3,4]])\n",
        "tensor2=tf.constant([[5,6],[7,8]])\n",
        "\n",
        "add=tf.add(tensor1,tensor2)\n",
        "add"
      ],
      "metadata": {
        "id": "8dg9Q_XJ9GZh",
        "outputId": "ddf3de43-991a-413a-adf8-5c5b7b37bcc1",
        "colab": {
          "base_uri": "https://localhost:8080/"
        }
      },
      "id": "8dg9Q_XJ9GZh",
      "execution_count": 9,
      "outputs": [
        {
          "output_type": "execute_result",
          "data": {
            "text/plain": [
              "<tf.Tensor: shape=(2, 2), dtype=int32, numpy=\n",
              "array([[ 6,  8],\n",
              "       [10, 12]], dtype=int32)>"
            ]
          },
          "metadata": {},
          "execution_count": 9
        }
      ]
    },
    {
      "cell_type": "code",
      "source": [
        "subtract=tf.subtract(tensor1,tensor2)\n",
        "subtract"
      ],
      "metadata": {
        "id": "fSlmA8jt_cf5",
        "outputId": "33be0982-9dfb-43bf-860d-a7aa599ad733",
        "colab": {
          "base_uri": "https://localhost:8080/"
        }
      },
      "id": "fSlmA8jt_cf5",
      "execution_count": 11,
      "outputs": [
        {
          "output_type": "execute_result",
          "data": {
            "text/plain": [
              "<tf.Tensor: shape=(2, 2), dtype=int32, numpy=\n",
              "array([[-4, -4],\n",
              "       [-4, -4]], dtype=int32)>"
            ]
          },
          "metadata": {},
          "execution_count": 11
        }
      ]
    },
    {
      "cell_type": "code",
      "source": [
        "multiply=tf.multiply(tensor1,tensor2)\n",
        "multiply"
      ],
      "metadata": {
        "id": "Jsb7FgTB_lhU",
        "outputId": "5df4c482-4553-4ed6-cd39-0e27fb70a6d2",
        "colab": {
          "base_uri": "https://localhost:8080/"
        }
      },
      "id": "Jsb7FgTB_lhU",
      "execution_count": 12,
      "outputs": [
        {
          "output_type": "execute_result",
          "data": {
            "text/plain": [
              "<tf.Tensor: shape=(2, 2), dtype=int32, numpy=\n",
              "array([[ 5, 12],\n",
              "       [21, 32]], dtype=int32)>"
            ]
          },
          "metadata": {},
          "execution_count": 12
        }
      ]
    },
    {
      "cell_type": "code",
      "source": [
        "divide=tf.divide(tensor1,tensor2)\n",
        "divide"
      ],
      "metadata": {
        "id": "7mBTUV6l_lw9",
        "outputId": "f22d684c-f8a7-4a8b-9745-49f88bc3a2ae",
        "colab": {
          "base_uri": "https://localhost:8080/"
        }
      },
      "id": "7mBTUV6l_lw9",
      "execution_count": 13,
      "outputs": [
        {
          "output_type": "execute_result",
          "data": {
            "text/plain": [
              "<tf.Tensor: shape=(2, 2), dtype=float64, numpy=\n",
              "array([[0.2       , 0.33333333],\n",
              "       [0.42857143, 0.5       ]])>"
            ]
          },
          "metadata": {},
          "execution_count": 13
        }
      ]
    },
    {
      "cell_type": "code",
      "source": [
        "tensor=tf.constant([1,2,3,4,5])\n",
        "mean=tf.reduce_mean(tensor)\n",
        "mean"
      ],
      "metadata": {
        "id": "RXU9WId__2QD",
        "outputId": "84ea5b00-2435-4a5e-e20e-35a72cb45466",
        "colab": {
          "base_uri": "https://localhost:8080/"
        }
      },
      "id": "RXU9WId__2QD",
      "execution_count": 14,
      "outputs": [
        {
          "output_type": "execute_result",
          "data": {
            "text/plain": [
              "<tf.Tensor: shape=(), dtype=int32, numpy=3>"
            ]
          },
          "metadata": {},
          "execution_count": 14
        }
      ]
    },
    {
      "cell_type": "code",
      "source": [
        "tensor=tf.constant([1.0,2.0,-3.0,4.0,5.0])\n",
        "std=tf.math.reduce_std(tensor)\n",
        "std"
      ],
      "metadata": {
        "id": "QAsstDJnACCE",
        "outputId": "58d7a5cc-1fdb-40eb-d9d8-4f15a0c39a3b",
        "colab": {
          "base_uri": "https://localhost:8080/"
        }
      },
      "id": "QAsstDJnACCE",
      "execution_count": 19,
      "outputs": [
        {
          "output_type": "execute_result",
          "data": {
            "text/plain": [
              "<tf.Tensor: shape=(), dtype=float32, numpy=2.7856777>"
            ]
          },
          "metadata": {},
          "execution_count": 19
        }
      ]
    },
    {
      "cell_type": "code",
      "source": [
        "tensor_relu=tf.nn.relu(tensor)\n",
        "tensor_relu"
      ],
      "metadata": {
        "id": "1Is7T3IqARIa",
        "outputId": "4227eeae-5485-4d45-ded0-1750760e7229",
        "colab": {
          "base_uri": "https://localhost:8080/"
        }
      },
      "id": "1Is7T3IqARIa",
      "execution_count": 20,
      "outputs": [
        {
          "output_type": "execute_result",
          "data": {
            "text/plain": [
              "<tf.Tensor: shape=(5,), dtype=float32, numpy=array([1., 2., 0., 4., 5.], dtype=float32)>"
            ]
          },
          "metadata": {},
          "execution_count": 20
        }
      ]
    },
    {
      "cell_type": "code",
      "source": [
        "mat_mul=tf.matmul(tensor1,tensor2)\n",
        "mat_mul"
      ],
      "metadata": {
        "id": "4gM64YWGAiGF",
        "outputId": "111cb59d-31e2-4843-d6bc-fd950bb25650",
        "colab": {
          "base_uri": "https://localhost:8080/"
        }
      },
      "id": "4gM64YWGAiGF",
      "execution_count": 21,
      "outputs": [
        {
          "output_type": "execute_result",
          "data": {
            "text/plain": [
              "<tf.Tensor: shape=(2, 2), dtype=int32, numpy=\n",
              "array([[19, 22],\n",
              "       [43, 50]], dtype=int32)>"
            ]
          },
          "metadata": {},
          "execution_count": 21
        }
      ]
    },
    {
      "cell_type": "markdown",
      "id": "d4bd1425",
      "metadata": {
        "id": "d4bd1425"
      },
      "source": [
        "\n",
        "## 3. Manipulating Tensor Shapes\n",
        "\n",
        "**Objective**: Learn how to reshape and transpose tensors.\n",
        "\n",
        "**Exercises**:\n",
        "1. Create a tensor of shape (4, 4), then reshape it to (2, 8).\n",
        "2. Transpose a 2-D tensor.\n",
        "3. Flatten a 3-D tensor to a 1-D tensor.\n"
      ]
    },
    {
      "cell_type": "code",
      "source": [
        "quad_tensor=tf.constant([[1,2,3,4],[5,6,7,8],[9,0,1,2],[3,4,5,6]])\n",
        "quad_tensor"
      ],
      "metadata": {
        "id": "xSdmwp86Foh3",
        "outputId": "34a2c1ce-4360-4076-fa35-f4d58ed930ce",
        "colab": {
          "base_uri": "https://localhost:8080/"
        }
      },
      "id": "xSdmwp86Foh3",
      "execution_count": 22,
      "outputs": [
        {
          "output_type": "execute_result",
          "data": {
            "text/plain": [
              "<tf.Tensor: shape=(4, 4), dtype=int32, numpy=\n",
              "array([[1, 2, 3, 4],\n",
              "       [5, 6, 7, 8],\n",
              "       [9, 0, 1, 2],\n",
              "       [3, 4, 5, 6]], dtype=int32)>"
            ]
          },
          "metadata": {},
          "execution_count": 22
        }
      ]
    },
    {
      "cell_type": "code",
      "source": [
        "reshape_tensor=tf.reshape(quad_tensor,(2,8))\n",
        "reshape_tensor"
      ],
      "metadata": {
        "id": "E4y-IuLfF6ni",
        "outputId": "8e214aad-258e-4425-8e25-baf2cc6a6bf3",
        "colab": {
          "base_uri": "https://localhost:8080/"
        }
      },
      "id": "E4y-IuLfF6ni",
      "execution_count": 24,
      "outputs": [
        {
          "output_type": "execute_result",
          "data": {
            "text/plain": [
              "<tf.Tensor: shape=(2, 8), dtype=int32, numpy=\n",
              "array([[1, 2, 3, 4, 5, 6, 7, 8],\n",
              "       [9, 0, 1, 2, 3, 4, 5, 6]], dtype=int32)>"
            ]
          },
          "metadata": {},
          "execution_count": 24
        }
      ]
    },
    {
      "cell_type": "code",
      "source": [
        "transpose_tensor=tf.transpose(quad_tensor)\n",
        "transpose_tensor"
      ],
      "metadata": {
        "id": "KnUdDpJeGSgN",
        "outputId": "54e01f04-7624-4876-b020-bada0604b491",
        "colab": {
          "base_uri": "https://localhost:8080/"
        }
      },
      "id": "KnUdDpJeGSgN",
      "execution_count": 25,
      "outputs": [
        {
          "output_type": "execute_result",
          "data": {
            "text/plain": [
              "<tf.Tensor: shape=(4, 4), dtype=int32, numpy=\n",
              "array([[1, 5, 9, 3],\n",
              "       [2, 6, 0, 4],\n",
              "       [3, 7, 1, 5],\n",
              "       [4, 8, 2, 6]], dtype=int32)>"
            ]
          },
          "metadata": {},
          "execution_count": 25
        }
      ]
    },
    {
      "cell_type": "code",
      "source": [
        "tensor_3d=tf.constant([[[1,2,3],[4,5,6]],[[7,8,9],[1,2,3]]])\n",
        "tensor_3d"
      ],
      "metadata": {
        "id": "yw5BF_jtGoQc",
        "outputId": "2f3e7d50-6324-428f-bac9-eca4f97d4672",
        "colab": {
          "base_uri": "https://localhost:8080/"
        }
      },
      "id": "yw5BF_jtGoQc",
      "execution_count": 26,
      "outputs": [
        {
          "output_type": "execute_result",
          "data": {
            "text/plain": [
              "<tf.Tensor: shape=(2, 2, 3), dtype=int32, numpy=\n",
              "array([[[1, 2, 3],\n",
              "        [4, 5, 6]],\n",
              "\n",
              "       [[7, 8, 9],\n",
              "        [1, 2, 3]]], dtype=int32)>"
            ]
          },
          "metadata": {},
          "execution_count": 26
        }
      ]
    },
    {
      "cell_type": "code",
      "source": [
        "flatten_tensor=tf.reshape(tensor_3d,[-1])\n",
        "flatten_tensor"
      ],
      "metadata": {
        "id": "YSkLRIdOHCHi",
        "outputId": "c7fecac8-d199-4fc6-8156-5d11406ba78f",
        "colab": {
          "base_uri": "https://localhost:8080/"
        }
      },
      "id": "YSkLRIdOHCHi",
      "execution_count": 27,
      "outputs": [
        {
          "output_type": "execute_result",
          "data": {
            "text/plain": [
              "<tf.Tensor: shape=(12,), dtype=int32, numpy=array([1, 2, 3, 4, 5, 6, 7, 8, 9, 1, 2, 3], dtype=int32)>"
            ]
          },
          "metadata": {},
          "execution_count": 27
        }
      ]
    },
    {
      "cell_type": "markdown",
      "id": "7c2af7ed",
      "metadata": {
        "id": "7c2af7ed"
      },
      "source": [
        "\n",
        "## 4. Indexing and Slicing\n",
        "\n",
        "**Objective**: Access specific elements or slices of a tensor.\n",
        "\n",
        "**Exercises**:\n",
        "1. Extract a specific element from a tensor.\n",
        "2. Slice a portion of a tensor.\n",
        "3. Use boolean tensor indexing to filter elements.\n"
      ]
    },
    {
      "cell_type": "code",
      "source": [
        "specific_element=quad_tensor[2,3]\n",
        "specific_element"
      ],
      "metadata": {
        "id": "qDyJPl00HRD8",
        "outputId": "c41d5cf9-3020-41dd-9086-eda913e56799",
        "colab": {
          "base_uri": "https://localhost:8080/"
        }
      },
      "id": "qDyJPl00HRD8",
      "execution_count": 29,
      "outputs": [
        {
          "output_type": "execute_result",
          "data": {
            "text/plain": [
              "<tf.Tensor: shape=(), dtype=int32, numpy=2>"
            ]
          },
          "metadata": {},
          "execution_count": 29
        }
      ]
    },
    {
      "cell_type": "code",
      "source": [
        "slice_tensor=quad_tensor[0:2,1:3]\n",
        "slice_tensor"
      ],
      "metadata": {
        "id": "7lldzNO1HuRb",
        "outputId": "60662b13-1197-403d-a44d-04bf6f076362",
        "colab": {
          "base_uri": "https://localhost:8080/"
        }
      },
      "id": "7lldzNO1HuRb",
      "execution_count": 30,
      "outputs": [
        {
          "output_type": "execute_result",
          "data": {
            "text/plain": [
              "<tf.Tensor: shape=(2, 2), dtype=int32, numpy=\n",
              "array([[2, 3],\n",
              "       [6, 7]], dtype=int32)>"
            ]
          },
          "metadata": {},
          "execution_count": 30
        }
      ]
    },
    {
      "cell_type": "code",
      "source": [
        "boolean_mask=tf.constant([[True,False,False,True],[False,True,True,False],[False,True,True,False],[True,False,False,True]])\n",
        "filtered_tensor=tf.boolean_mask(quad_tensor,boolean_mask)\n",
        "filtered_tensor"
      ],
      "metadata": {
        "id": "31hcfqZTIJgu",
        "outputId": "3c20a382-40e2-4f69-9e21-bae8cfd0758e",
        "colab": {
          "base_uri": "https://localhost:8080/"
        }
      },
      "id": "31hcfqZTIJgu",
      "execution_count": 32,
      "outputs": [
        {
          "output_type": "execute_result",
          "data": {
            "text/plain": [
              "<tf.Tensor: shape=(8,), dtype=int32, numpy=array([1, 4, 6, 7, 0, 1, 3, 6], dtype=int32)>"
            ]
          },
          "metadata": {},
          "execution_count": 32
        }
      ]
    },
    {
      "cell_type": "markdown",
      "id": "dd6b95f3",
      "metadata": {
        "id": "dd6b95f3"
      },
      "source": [
        "\n",
        "## 5. Broadcasting\n",
        "\n",
        "**Objective**: Understand and apply broadcasting rules in tensor operations.\n",
        "\n",
        "**Exercises**:\n",
        "1. Perform an element-wise addition between tensors of different shapes.\n",
        "2. Broadcast a smaller tensor to match the shape of a larger tensor in an operation.\n"
      ]
    },
    {
      "cell_type": "markdown",
      "id": "978eb143",
      "metadata": {
        "id": "978eb143"
      },
      "source": [
        "\n",
        "## 6. Gradients and Differentiation\n",
        "\n",
        "**Objective**: Basic introduction to automatic differentiation.\n",
        "\n",
        "**Exercises**:\n",
        "1. Use `tf.GradientTape` to compute derivatives.\n",
        "2. Find the gradient of a simple function with respect to one of its inputs.\n"
      ]
    },
    {
      "cell_type": "markdown",
      "id": "5ca2545d",
      "metadata": {
        "id": "5ca2545d"
      },
      "source": [
        "\n",
        "## 7. Data Loading and Preprocessing\n",
        "\n",
        "**Objective**: Use `tf.data` for efficient data handling.\n",
        "\n",
        "**Exercises**:\n",
        "1. Create a simple dataset using `tf.data.Dataset`.\n",
        "2. Apply a transformation (like mapping) to the dataset.\n",
        "3. Batch and shuffle the dataset.\n"
      ]
    },
    {
      "cell_type": "code",
      "execution_count": null,
      "id": "FgxSOrQneCW6",
      "metadata": {
        "id": "FgxSOrQneCW6"
      },
      "outputs": [],
      "source": []
    }
  ],
  "metadata": {
    "colab": {
      "provenance": [],
      "include_colab_link": true
    },
    "kernelspec": {
      "display_name": "Python 3 (ipykernel)",
      "language": "python",
      "name": "python3"
    },
    "language_info": {
      "codemirror_mode": {
        "name": "ipython",
        "version": 3
      },
      "file_extension": ".py",
      "mimetype": "text/x-python",
      "name": "python",
      "nbconvert_exporter": "python",
      "pygments_lexer": "ipython3",
      "version": "3.10.6"
    }
  },
  "nbformat": 4,
  "nbformat_minor": 5
}