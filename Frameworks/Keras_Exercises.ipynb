{
  "cells": [
    {
      "cell_type": "markdown",
      "id": "84bd532c",
      "metadata": {
        "id": "84bd532c"
      },
      "source": [
        "\n",
        "# Keras Exercises for Basic Manipulation of Layers, Models, and Loss Functions\n",
        "\n",
        "This notebook provides a set of exercises designed to familiarize you with the basics of handling layers, models,\n",
        "and loss functions in Keras, which is essential for working with Large Language Models (LLMs).\n",
        "\n",
        "## Exercises Overview\n",
        "1. Creating and Configuring Layers\n",
        "2. Building Sequential Models\n",
        "3. Functional API for Model Building\n",
        "4. Implementing Custom Loss Functions\n",
        "5. Compiling and Training a Model\n",
        "6. Freezing Layers in a Model\n",
        "\n",
        "Each section will include a brief explanation followed by practical exercises.\n"
      ]
    },
    {
      "cell_type": "markdown",
      "id": "b2ef1f64",
      "metadata": {
        "id": "b2ef1f64"
      },
      "source": [
        "\n",
        "## 1. Creating and Configuring Layers\n",
        "\n",
        "**Objective**: Learn how to create and configure different types of layers in Keras.\n",
        "\n",
        "**Exercises**:\n",
        "1. Create a Dense layer with 10 neurons and ReLU activation.\n",
        "2. Create a Dropout layer with a dropout rate of 0.2.\n",
        "3. Configure a Conv2D layer suitable for input images of shape (28, 28, 1) with 32 filters.\n"
      ]
    },
    {
      "cell_type": "code",
      "source": [
        "import tensorflow as tf\n",
        "dense_layers=tf.keras.layers.Dense(10, activation='relu')\n",
        "dense_layers"
      ],
      "metadata": {
        "id": "q21l2uRHK_Vj",
        "outputId": "a8a2a900-cfdd-4439-ee0a-8a0ad35d43f9",
        "colab": {
          "base_uri": "https://localhost:8080/"
        }
      },
      "id": "q21l2uRHK_Vj",
      "execution_count": 2,
      "outputs": [
        {
          "output_type": "execute_result",
          "data": {
            "text/plain": [
              "<keras.src.layers.core.dense.Dense at 0x7efcaf6acd90>"
            ]
          },
          "metadata": {},
          "execution_count": 2
        }
      ]
    },
    {
      "cell_type": "code",
      "source": [
        "dropout_layer=tf.keras.layers.Dropout(0.2)\n",
        "dropout_layer"
      ],
      "metadata": {
        "id": "BFNasOQEMAW1",
        "outputId": "e6799e8d-3551-4cec-b23d-dc25ca9cb66d",
        "colab": {
          "base_uri": "https://localhost:8080/"
        }
      },
      "id": "BFNasOQEMAW1",
      "execution_count": 3,
      "outputs": [
        {
          "output_type": "execute_result",
          "data": {
            "text/plain": [
              "<keras.src.layers.regularization.dropout.Dropout at 0x7efc22503b50>"
            ]
          },
          "metadata": {},
          "execution_count": 3
        }
      ]
    },
    {
      "cell_type": "code",
      "source": [
        "conv_layer=tf.keras.layers.Conv2D(32,(3,3), activation='relu', input_shape=(28,28,1))\n",
        "conv_layer"
      ],
      "metadata": {
        "id": "HaK3f53lMa24",
        "outputId": "efebb80f-8325-41c2-c128-0a39bcb2a3a7",
        "colab": {
          "base_uri": "https://localhost:8080/"
        }
      },
      "id": "HaK3f53lMa24",
      "execution_count": 4,
      "outputs": [
        {
          "output_type": "execute_result",
          "data": {
            "text/plain": [
              "<keras.src.layers.convolutional.conv2d.Conv2D at 0x7efc22323220>"
            ]
          },
          "metadata": {},
          "execution_count": 4
        }
      ]
    },
    {
      "cell_type": "markdown",
      "id": "e939c80d",
      "metadata": {
        "id": "e939c80d"
      },
      "source": [
        "\n",
        "## 2. Building Sequential Models\n",
        "\n",
        "**Objective**: Understand how to build sequential models in Keras.\n",
        "\n",
        "**Exercises**:\n",
        "1. Build a sequential model with a Dense layer followed by a Dropout layer.\n",
        "2. Add a Dense output layer suitable for a classification task with 3 classes.\n"
      ]
    },
    {
      "cell_type": "code",
      "source": [
        "model=tf.keras.Sequential()\n",
        "model.add(tf.keras.layers.Dense(128,activation='relu'))\n",
        "model.add(tf.keras.layers.Dropout(0.2))\n",
        "model"
      ],
      "metadata": {
        "id": "xDbXqteUNRtJ",
        "outputId": "6fe8a34f-fdda-481c-f3e9-24c75d10b963",
        "colab": {
          "base_uri": "https://localhost:8080/"
        }
      },
      "id": "xDbXqteUNRtJ",
      "execution_count": 5,
      "outputs": [
        {
          "output_type": "execute_result",
          "data": {
            "text/plain": [
              "<keras.src.engine.sequential.Sequential at 0x7efc223225f0>"
            ]
          },
          "metadata": {},
          "execution_count": 5
        }
      ]
    },
    {
      "cell_type": "code",
      "source": [
        "model.add(tf.keras.layers.Dense(3,activation='softmax'))"
      ],
      "metadata": {
        "id": "J6mEoILRN9Dz"
      },
      "id": "J6mEoILRN9Dz",
      "execution_count": 6,
      "outputs": []
    },
    {
      "cell_type": "markdown",
      "id": "96ad844a",
      "metadata": {
        "id": "96ad844a"
      },
      "source": [
        "\n",
        "## 3. Functional API for Model Building\n",
        "\n",
        "**Objective**: Learn to use Keras' Functional API for flexible model building.\n",
        "\n",
        "**Exercises**:\n",
        "1. Build a simple model with the Functional API using at least two input layers.\n",
        "2. Create a model that merges two input branches with concatenation.\n"
      ]
    },
    {
      "cell_type": "code",
      "source": [
        "import tensorflow as tf\n",
        "input1=tf.keras.layers.Input(shape=(28,28,1))\n",
        "input2=tf.keras.layers.Input(shape=(10,))\n",
        "\n",
        "conv_layers=tf.keras.layers.Conv2D(32,(3,3),activation='relu')(input1)\n",
        "flatten_layers=tf.keras.layers.Flatten()(conv_layers)\n",
        "dense_layers=tf.keras.layers.Dense(64, activation='relu')(input2)\n",
        "\n",
        "concatenated=tf.keras.layers.Concatenate()([flatten_layers,dense_layers])\n",
        "\n",
        "output=tf.keras.layers.Dense(3,activation='softmax')(concatenated)\n",
        "\n",
        "model=tf.keras.Model(inputs=[input1,input2],outputs=output)"
      ],
      "metadata": {
        "id": "94gVGZDaQXGK"
      },
      "id": "94gVGZDaQXGK",
      "execution_count": 10,
      "outputs": []
    },
    {
      "cell_type": "markdown",
      "id": "1940ea82",
      "metadata": {
        "id": "1940ea82"
      },
      "source": [
        "\n",
        "## 4. Implementing Custom Loss Functions\n",
        "\n",
        "**Objective**: Implement and understand custom loss functions.\n",
        "\n",
        "**Exercises**:\n",
        "1. Write a custom loss function that calculates mean squared error.\n",
        "2. Implement a custom loss function that adds a regularizing term.\n"
      ]
    },
    {
      "cell_type": "code",
      "source": [
        "def custom_mse(y_true,y_pred,reg_weight):\n",
        "  mse_loss=tf.reduce_mean(tf.square(y_true-y_pred))\n",
        "  regularization_term=reg_weight*tf.reduce_sum(tf.square(y_pred))\n",
        "  total_loss=mse_loss+regularization_term\n",
        "  return total_loss"
      ],
      "metadata": {
        "id": "1owq-nT3pPVY"
      },
      "id": "1owq-nT3pPVY",
      "execution_count": 12,
      "outputs": []
    },
    {
      "cell_type": "markdown",
      "id": "563cad4e",
      "metadata": {
        "id": "563cad4e"
      },
      "source": [
        "\n",
        "## 5. Compiling and Training a Model\n",
        "\n",
        "**Objective**: Compile and train a Keras model.\n",
        "\n",
        "**Exercises**:\n",
        "1. Compile a model with a specified optimizer, loss function, and metric.\n",
        "2. Write a code snippet to train a model on given training data and labels.\n"
      ]
    },
    {
      "cell_type": "code",
      "source": [
        "optimizer=tf.keras.optimizers.Adam(learning_rate=0.001)\n",
        "loss_function=tf.keras.losses.SparseCategoricalCrossentropy()\n",
        "metric=tf.keras.metrics.SparseCategoricalAccuracy()\n",
        "model.compile(optimizer=optimizer,loss=loss_function,metrics=[metric])\n",
        "model.fit(train_img,train_label,epochs=10,batch_size=32)\n",
        "model.evaluate(test_img,test_label)"
      ],
      "metadata": {
        "id": "MoxOqfcIyr1z"
      },
      "id": "MoxOqfcIyr1z",
      "execution_count": 13,
      "outputs": []
    },
    {
      "cell_type": "markdown",
      "id": "740da903",
      "metadata": {
        "id": "740da903"
      },
      "source": [
        "\n",
        "## 6. Freezing Layers in a Model\n",
        "\n",
        "**Objective**: Learn to freeze layers during model training.\n",
        "\n",
        "**Exercises**:\n",
        "1. Create a model and freeze a specific layer during training.\n",
        "2. Write an example of training a Keras model while keeping some layers as non-trainable.\n"
      ]
    },
    {
      "cell_type": "code",
      "source": [
        "# prompt: Create a model and freeze a specific layer during training.\n",
        "\n",
        "# Create a model\n",
        "model = tf.keras.Sequential([\n",
        "  tf.keras.layers.Dense(128, activation='relu'),\n",
        "  tf.keras.layers.Dense(64, activation='relu'),\n",
        "  tf.keras.layers.Dense(10, activation='softmax')\n",
        "])\n",
        "\n",
        "# Freeze the first layer\n",
        "model.layers[0].trainable = False\n",
        "\n",
        "# Compile and train the model\n",
        "model.compile(\n",
        "  optimizer='adam',\n",
        "  loss='sparse_categorical_crossentropy',\n",
        "  metrics=['accuracy']\n",
        ")\n",
        "\n",
        "# Train the model\n",
        "model.fit(train_data, train_labels, epochs=10)\n"
      ],
      "metadata": {
        "id": "rB54v84LysrY"
      },
      "id": "rB54v84LysrY",
      "execution_count": null,
      "outputs": []
    },
    {
      "cell_type": "code",
      "source": [
        "# prompt: Write an example of training a Keras model while keeping some layers as non-trainable.\n",
        "\n",
        "# Create a model\n",
        "model = tf.keras.Sequential([\n",
        "  tf.keras.layers.Dense(128, activation='relu'),\n",
        "  tf.keras.layers.Dense(64, activation='relu'),\n",
        "  tf.keras.layers.Dense(10, activation='softmax')\n",
        "])\n",
        "\n",
        "# Freeze the first layer\n",
        "model.layers[0].trainable = False\n",
        "\n",
        "# Compile and train the model\n",
        "model.compile(\n",
        "  optimizer='adam',\n",
        "  loss='sparse_categorical_crossentropy',\n",
        "  metrics=['accuracy']\n",
        ")\n",
        "\n",
        "# Train the model\n",
        "model.fit(train_data, train_labels, epochs=10)\n"
      ],
      "metadata": {
        "id": "DsC1EnUY5aTh"
      },
      "id": "DsC1EnUY5aTh",
      "execution_count": null,
      "outputs": []
    }
  ],
  "metadata": {
    "colab": {
      "provenance": []
    },
    "language_info": {
      "name": "python"
    },
    "kernelspec": {
      "name": "python3",
      "display_name": "Python 3"
    }
  },
  "nbformat": 4,
  "nbformat_minor": 5
}